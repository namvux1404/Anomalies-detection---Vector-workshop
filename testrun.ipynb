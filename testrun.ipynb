{
  "nbformat": 4,
  "nbformat_minor": 0,
  "metadata": {
    "colab": {
      "provenance": [],
      "gpuType": "T4",
      "include_colab_link": true
    },
    "kernelspec": {
      "name": "python3",
      "display_name": "Python 3"
    },
    "language_info": {
      "name": "python"
    },
    "accelerator": "GPU"
  },
  "cells": [
    {
      "cell_type": "markdown",
      "metadata": {
        "id": "view-in-github",
        "colab_type": "text"
      },
      "source": [
        "<a href=\"https://colab.research.google.com/github/namvux1404/Anomalies-detection---Vector-workshop/blob/Nam/testrun.ipynb\" target=\"_parent\"><img src=\"https://colab.research.google.com/assets/colab-badge.svg\" alt=\"Open In Colab\"/></a>"
      ]
    },
    {
      "cell_type": "code",
      "execution_count": null,
      "metadata": {
        "colab": {
          "base_uri": "https://localhost:8080/"
        },
        "id": "tFAn6AKSjfKd",
        "outputId": "0a23fcf9-7d69-4b09-fa01-095b87d57b16"
      },
      "outputs": [
        {
          "output_type": "stream",
          "name": "stdout",
          "text": [
            "Cloning into 'GDN'...\n",
            "remote: Enumerating objects: 54, done.\u001b[K\n",
            "remote: Counting objects: 100% (27/27), done.\u001b[K\n",
            "remote: Compressing objects: 100% (21/21), done.\u001b[K\n",
            "remote: Total 54 (delta 10), reused 6 (delta 6), pack-reused 27\u001b[K\n",
            "Receiving objects: 100% (54/54), 473.31 KiB | 2.01 MiB/s, done.\n",
            "Resolving deltas: 100% (13/13), done.\n"
          ]
        }
      ],
      "source": [
        "!git clone https://github.com/d-ailin/GDN.git"
      ]
    },
    {
      "cell_type": "code",
      "source": [
        "!pwd"
      ],
      "metadata": {
        "id": "mtDv88zmSevc",
        "outputId": "7b3c6351-7e22-4b32-9927-49bafeb9ac0c",
        "colab": {
          "base_uri": "https://localhost:8080/"
        }
      },
      "execution_count": null,
      "outputs": [
        {
          "output_type": "stream",
          "name": "stdout",
          "text": [
            "/content\n"
          ]
        }
      ]
    },
    {
      "cell_type": "code",
      "source": [
        "!git clone https://github.com/namvux1404/Anomalies-detection---Vector-workshop.git"
      ],
      "metadata": {
        "id": "dEbAeHOySEEB",
        "outputId": "99ca74a5-fd74-460c-bb3d-a517d9b9beb0",
        "colab": {
          "base_uri": "https://localhost:8080/"
        }
      },
      "execution_count": null,
      "outputs": [
        {
          "output_type": "stream",
          "name": "stdout",
          "text": [
            "Cloning into 'Anomalies-detection---Vector-workshop'...\n",
            "remote: Enumerating objects: 20, done.\u001b[K\n",
            "remote: Counting objects: 100% (20/20), done.\u001b[K\n",
            "remote: Compressing objects: 100% (18/18), done.\u001b[K\n",
            "remote: Total 20 (delta 3), reused 0 (delta 0), pack-reused 0\u001b[K\n",
            "Receiving objects: 100% (20/20), 8.84 KiB | 8.84 MiB/s, done.\n",
            "Resolving deltas: 100% (3/3), done.\n"
          ]
        }
      ]
    },
    {
      "cell_type": "code",
      "source": [
        "#modify graph_layer.py\n",
        "%cp /content/Anomalies-detection---Vector-workshop/modified_pyFile/graph_layer.py /content/GDN/models/graph_layer.py"
      ],
      "metadata": {
        "id": "hyV05ywqSDcq"
      },
      "execution_count": null,
      "outputs": []
    },
    {
      "cell_type": "code",
      "source": [
        "import os\n",
        "os.chdir('./GDN/')"
      ],
      "metadata": {
        "id": "TyJhq3rqnWuG"
      },
      "execution_count": null,
      "outputs": []
    },
    {
      "cell_type": "code",
      "source": [
        "import torch\n",
        "print(torch.__version__)"
      ],
      "metadata": {
        "colab": {
          "base_uri": "https://localhost:8080/"
        },
        "id": "9EPtQuZSnmzN",
        "outputId": "c3c30abe-7d8b-4510-f37a-041a12b893ec"
      },
      "execution_count": null,
      "outputs": [
        {
          "output_type": "stream",
          "name": "stdout",
          "text": [
            "2.0.1+cu118\n"
          ]
        }
      ]
    },
    {
      "cell_type": "code",
      "source": [
        "!pip install torch_geometric"
      ],
      "metadata": {
        "colab": {
          "base_uri": "https://localhost:8080/"
        },
        "id": "7pjevXDirQLE",
        "outputId": "5bbb56d5-a333-45b5-9de8-26eb6206fe92"
      },
      "execution_count": null,
      "outputs": [
        {
          "output_type": "stream",
          "name": "stdout",
          "text": [
            "Collecting torch_geometric\n",
            "  Downloading torch_geometric-2.3.1.tar.gz (661 kB)\n",
            "\u001b[2K     \u001b[90m━━━━━━━━━━━━━━━━━━━━━━━━━━━━━━━━━━━━━━━\u001b[0m \u001b[32m661.6/661.6 kB\u001b[0m \u001b[31m7.0 MB/s\u001b[0m eta \u001b[36m0:00:00\u001b[0m\n",
            "\u001b[?25h  Installing build dependencies ... \u001b[?25l\u001b[?25hdone\n",
            "  Getting requirements to build wheel ... \u001b[?25l\u001b[?25hdone\n",
            "  Preparing metadata (pyproject.toml) ... \u001b[?25l\u001b[?25hdone\n",
            "Requirement already satisfied: tqdm in /usr/local/lib/python3.10/dist-packages (from torch_geometric) (4.66.1)\n",
            "Requirement already satisfied: numpy in /usr/local/lib/python3.10/dist-packages (from torch_geometric) (1.23.5)\n",
            "Requirement already satisfied: scipy in /usr/local/lib/python3.10/dist-packages (from torch_geometric) (1.10.1)\n",
            "Requirement already satisfied: jinja2 in /usr/local/lib/python3.10/dist-packages (from torch_geometric) (3.1.2)\n",
            "Requirement already satisfied: requests in /usr/local/lib/python3.10/dist-packages (from torch_geometric) (2.31.0)\n",
            "Requirement already satisfied: pyparsing in /usr/local/lib/python3.10/dist-packages (from torch_geometric) (3.1.1)\n",
            "Requirement already satisfied: scikit-learn in /usr/local/lib/python3.10/dist-packages (from torch_geometric) (1.2.2)\n",
            "Requirement already satisfied: psutil>=5.8.0 in /usr/local/lib/python3.10/dist-packages (from torch_geometric) (5.9.5)\n",
            "Requirement already satisfied: MarkupSafe>=2.0 in /usr/local/lib/python3.10/dist-packages (from jinja2->torch_geometric) (2.1.3)\n",
            "Requirement already satisfied: charset-normalizer<4,>=2 in /usr/local/lib/python3.10/dist-packages (from requests->torch_geometric) (3.2.0)\n",
            "Requirement already satisfied: idna<4,>=2.5 in /usr/local/lib/python3.10/dist-packages (from requests->torch_geometric) (3.4)\n",
            "Requirement already satisfied: urllib3<3,>=1.21.1 in /usr/local/lib/python3.10/dist-packages (from requests->torch_geometric) (2.0.4)\n",
            "Requirement already satisfied: certifi>=2017.4.17 in /usr/local/lib/python3.10/dist-packages (from requests->torch_geometric) (2023.7.22)\n",
            "Requirement already satisfied: joblib>=1.1.1 in /usr/local/lib/python3.10/dist-packages (from scikit-learn->torch_geometric) (1.3.2)\n",
            "Requirement already satisfied: threadpoolctl>=2.0.0 in /usr/local/lib/python3.10/dist-packages (from scikit-learn->torch_geometric) (3.2.0)\n",
            "Building wheels for collected packages: torch_geometric\n",
            "  Building wheel for torch_geometric (pyproject.toml) ... \u001b[?25l\u001b[?25hdone\n",
            "  Created wheel for torch_geometric: filename=torch_geometric-2.3.1-py3-none-any.whl size=910454 sha256=fc8367129fd0a98430d1449167f91307c031efa2b2cde168d6033bc5b8db38b2\n",
            "  Stored in directory: /root/.cache/pip/wheels/ac/dc/30/e2874821ff308ee67dcd7a66dbde912411e19e35a1addda028\n",
            "Successfully built torch_geometric\n",
            "Installing collected packages: torch_geometric\n",
            "Successfully installed torch_geometric-2.3.1\n"
          ]
        }
      ]
    },
    {
      "cell_type": "code",
      "source": [
        "!pip install torch_scatter torch_sparse torch_cluster torch_spline_conv -f https://data.pyg.org/whl/torch-2.0.1+cu118.html"
      ],
      "metadata": {
        "colab": {
          "base_uri": "https://localhost:8080/"
        },
        "id": "4Qt3w98ZXVw9",
        "outputId": "723afdf3-3581-4984-c764-ef5ddea2c6a0"
      },
      "execution_count": null,
      "outputs": [
        {
          "output_type": "stream",
          "name": "stdout",
          "text": [
            "Looking in links: https://data.pyg.org/whl/torch-2.0.1+cu118.html\n",
            "Collecting torch_scatter\n",
            "  Downloading https://data.pyg.org/whl/torch-2.0.0%2Bcu118/torch_scatter-2.1.1%2Bpt20cu118-cp310-cp310-linux_x86_64.whl (10.2 MB)\n",
            "\u001b[2K     \u001b[90m━━━━━━━━━━━━━━━━━━━━━━━━━━━━━━━━━━━━━━━━\u001b[0m \u001b[32m10.2/10.2 MB\u001b[0m \u001b[31m47.3 MB/s\u001b[0m eta \u001b[36m0:00:00\u001b[0m\n",
            "\u001b[?25hCollecting torch_sparse\n",
            "  Downloading https://data.pyg.org/whl/torch-2.0.0%2Bcu118/torch_sparse-0.6.17%2Bpt20cu118-cp310-cp310-linux_x86_64.whl (4.8 MB)\n",
            "\u001b[2K     \u001b[90m━━━━━━━━━━━━━━━━━━━━━━━━━━━━━━━━━━━━━━━━\u001b[0m \u001b[32m4.8/4.8 MB\u001b[0m \u001b[31m33.3 MB/s\u001b[0m eta \u001b[36m0:00:00\u001b[0m\n",
            "\u001b[?25hCollecting torch_cluster\n",
            "  Downloading https://data.pyg.org/whl/torch-2.0.0%2Bcu118/torch_cluster-1.6.1%2Bpt20cu118-cp310-cp310-linux_x86_64.whl (3.3 MB)\n",
            "\u001b[2K     \u001b[90m━━━━━━━━━━━━━━━━━━━━━━━━━━━━━━━━━━━━━━━━\u001b[0m \u001b[32m3.3/3.3 MB\u001b[0m \u001b[31m42.6 MB/s\u001b[0m eta \u001b[36m0:00:00\u001b[0m\n",
            "\u001b[?25hCollecting torch_spline_conv\n",
            "  Downloading https://data.pyg.org/whl/torch-2.0.0%2Bcu118/torch_spline_conv-1.2.2%2Bpt20cu118-cp310-cp310-linux_x86_64.whl (884 kB)\n",
            "\u001b[2K     \u001b[90m━━━━━━━━━━━━━━━━━━━━━━━━━━━━━━━━━━━━━━\u001b[0m \u001b[32m884.9/884.9 kB\u001b[0m \u001b[31m64.8 MB/s\u001b[0m eta \u001b[36m0:00:00\u001b[0m\n",
            "\u001b[?25hRequirement already satisfied: scipy in /usr/local/lib/python3.10/dist-packages (from torch_sparse) (1.10.1)\n",
            "Requirement already satisfied: numpy<1.27.0,>=1.19.5 in /usr/local/lib/python3.10/dist-packages (from scipy->torch_sparse) (1.23.5)\n",
            "Installing collected packages: torch_spline_conv, torch_scatter, torch_sparse, torch_cluster\n",
            "Successfully installed torch_cluster-1.6.1+pt20cu118 torch_scatter-2.1.1+pt20cu118 torch_sparse-0.6.17+pt20cu118 torch_spline_conv-1.2.2+pt20cu118\n"
          ]
        }
      ]
    },
    {
      "cell_type": "code",
      "source": [
        "!nvidia-smi"
      ],
      "metadata": {
        "colab": {
          "base_uri": "https://localhost:8080/"
        },
        "id": "4-iDRRqB4hUI",
        "outputId": "4af9663b-0f00-4fbf-cc08-ad845a7c1e88"
      },
      "execution_count": null,
      "outputs": [
        {
          "output_type": "stream",
          "name": "stdout",
          "text": [
            "Tue Aug 22 22:09:58 2023       \n",
            "+-----------------------------------------------------------------------------+\n",
            "| NVIDIA-SMI 525.105.17   Driver Version: 525.105.17   CUDA Version: 12.0     |\n",
            "|-------------------------------+----------------------+----------------------+\n",
            "| GPU  Name        Persistence-M| Bus-Id        Disp.A | Volatile Uncorr. ECC |\n",
            "| Fan  Temp  Perf  Pwr:Usage/Cap|         Memory-Usage | GPU-Util  Compute M. |\n",
            "|                               |                      |               MIG M. |\n",
            "|===============================+======================+======================|\n",
            "|   0  Tesla T4            Off  | 00000000:00:04.0 Off |                    0 |\n",
            "| N/A   35C    P8    11W /  70W |      0MiB / 15360MiB |      0%      Default |\n",
            "|                               |                      |                  N/A |\n",
            "+-------------------------------+----------------------+----------------------+\n",
            "                                                                               \n",
            "+-----------------------------------------------------------------------------+\n",
            "| Processes:                                                                  |\n",
            "|  GPU   GI   CI        PID   Type   Process name                  GPU Memory |\n",
            "|        ID   ID                                                   Usage      |\n",
            "|=============================================================================|\n",
            "|  No running processes found                                                 |\n",
            "+-----------------------------------------------------------------------------+\n"
          ]
        }
      ]
    },
    {
      "cell_type": "code",
      "source": [
        "!bash run.sh 0 msl"
      ],
      "metadata": {
        "colab": {
          "base_uri": "https://localhost:8080/"
        },
        "id": "TUep2s20vr9e",
        "outputId": "0ce6cb67-036f-498e-d3d4-fc0d4424f756"
      },
      "execution_count": null,
      "outputs": [
        {
          "output_type": "stream",
          "name": "stdout",
          "text": [
            "/content/GDN/models/GDN.py:161: UserWarning: The use of `x.T` on tensors of dimension other than 2 to reverse their shape is deprecated and it will throw an error in a future release. Consider `x.mT` to transpose batches of matrices or `x.permute(*torch.arange(x.ndim - 1, -1, -1))` to reverse the dimensions of a tensor. (Triggered internally at ../aten/src/ATen/native/TensorShape.cpp:3571.)\n",
            "  gated_i = torch.arange(0, node_num).T.unsqueeze(1).repeat(1, topk_num).flatten().to(device).unsqueeze(0)\n",
            "epoch (0 / 30) (Loss:0.46357875, ACU_loss:18.07957143)\n",
            "epoch (1 / 30) (Loss:0.27831620, ACU_loss:10.85433182)\n",
            "epoch (2 / 30) (Loss:0.23245400, ACU_loss:9.06570582)\n",
            "epoch (3 / 30) (Loss:0.21226052, ACU_loss:8.27816018)\n",
            "epoch (4 / 30) (Loss:0.19121092, ACU_loss:7.45722575)\n",
            "epoch (5 / 30) (Loss:0.17493827, ACU_loss:6.82259235)\n",
            "epoch (6 / 30) (Loss:0.17221259, ACU_loss:6.71629117)\n",
            "epoch (7 / 30) (Loss:0.16269105, ACU_loss:6.34495105)\n",
            "epoch (8 / 30) (Loss:0.14979067, ACU_loss:5.84183618)\n",
            "epoch (9 / 30) (Loss:0.14524866, ACU_loss:5.66469768)\n",
            "epoch (10 / 30) (Loss:0.14283741, ACU_loss:5.57065902)\n",
            "epoch (11 / 30) (Loss:0.13120813, ACU_loss:5.11711719)\n",
            "epoch (12 / 30) (Loss:0.13415299, ACU_loss:5.23196667)\n",
            "epoch (13 / 30) (Loss:0.13897523, ACU_loss:5.42003399)\n",
            "epoch (14 / 30) (Loss:0.12435790, ACU_loss:4.84995799)\n",
            "epoch (15 / 30) (Loss:0.12684134, ACU_loss:4.94681208)\n",
            "epoch (16 / 30) (Loss:0.11934626, ACU_loss:4.65450410)\n",
            "epoch (17 / 30) (Loss:0.11663650, ACU_loss:4.54882351)\n",
            "epoch (18 / 30) (Loss:0.11537044, ACU_loss:4.49944703)\n",
            "epoch (19 / 30) (Loss:0.11533493, ACU_loss:4.49806241)\n",
            "epoch (20 / 30) (Loss:0.11064420, ACU_loss:4.31512369)\n",
            "epoch (21 / 30) (Loss:0.11090819, ACU_loss:4.32541958)\n",
            "epoch (22 / 30) (Loss:0.10686315, ACU_loss:4.16766281)\n",
            "epoch (23 / 30) (Loss:0.11220665, ACU_loss:4.37605936)\n",
            "epoch (24 / 30) (Loss:0.10950039, ACU_loss:4.27051526)\n",
            "epoch (25 / 30) (Loss:0.10894286, ACU_loss:4.24877170)\n",
            "epoch (26 / 30) (Loss:0.11183041, ACU_loss:4.36138584)\n",
            "epoch (27 / 30) (Loss:0.10914191, ACU_loss:4.25653438)\n",
            "epoch (28 / 30) (Loss:0.10884870, ACU_loss:4.24509922)\n",
            "epoch (29 / 30) (Loss:0.11068876, ACU_loss:4.31686172)\n",
            "=========================** Result **============================\n",
            "\n",
            "F1 score: 0.8782632591371256\n",
            "precision: 0.7836113837095191\n",
            "recall: 0.998125\n",
            "\n"
          ]
        }
      ]
    },
    {
      "cell_type": "code",
      "source": [
        "!bash run.sh 0 msl"
      ],
      "metadata": {
        "colab": {
          "base_uri": "https://localhost:8080/"
        },
        "id": "Zz6IVcHb3h7T",
        "outputId": "78b7f9a7-fce9-4ffc-c715-3c82062d0d42"
      },
      "execution_count": null,
      "outputs": [
        {
          "output_type": "stream",
          "name": "stdout",
          "text": [
            "/content/GDN/models/GDN.py:161: UserWarning: The use of `x.T` on tensors of dimension other than 2 to reverse their shape is deprecated and it will throw an error in a future release. Consider `x.mT` to transpose batches of matrices or `x.permute(*torch.arange(x.ndim - 1, -1, -1))` to reverse the dimensions of a tensor. (Triggered internally at ../aten/src/ATen/native/TensorShape.cpp:3571.)\n",
            "  gated_i = torch.arange(0, node_num).T.unsqueeze(1).repeat(1, topk_num).flatten().to(device).unsqueeze(0)\n",
            "epoch (0 / 30) (Loss:0.46357875, ACU_loss:18.07957137)\n",
            "epoch (1 / 30) (Loss:0.27831617, ACU_loss:10.85433082)\n",
            "epoch (2 / 30) (Loss:0.23245515, ACU_loss:9.06575084)\n",
            "epoch (3 / 30) (Loss:0.21231870, ACU_loss:8.28042929)\n",
            "epoch (4 / 30) (Loss:0.19132835, ACU_loss:7.46180573)\n",
            "epoch (5 / 30) (Loss:0.17451125, ACU_loss:6.80593866)\n",
            "epoch (6 / 30) (Loss:0.17282181, ACU_loss:6.74005058)\n",
            "epoch (7 / 30) (Loss:0.16399366, ACU_loss:6.39575265)\n",
            "epoch (8 / 30) (Loss:0.15099483, ACU_loss:5.88879843)\n",
            "epoch (9 / 30) (Loss:0.14222143, ACU_loss:5.54663559)\n",
            "epoch (10 / 30) (Loss:0.14610927, ACU_loss:5.69826161)\n",
            "epoch (11 / 30) (Loss:0.13733984, ACU_loss:5.35625363)\n",
            "epoch (12 / 30) (Loss:0.13290035, ACU_loss:5.18311384)\n",
            "epoch (13 / 30) (Loss:0.12702426, ACU_loss:4.95394597)\n",
            "epoch (14 / 30) (Loss:0.12100351, ACU_loss:4.71913670)\n",
            "epoch (15 / 30) (Loss:0.12660709, ACU_loss:4.93767635)\n",
            "epoch (16 / 30) (Loss:0.12078389, ACU_loss:4.71057157)\n",
            "epoch (17 / 30) (Loss:0.11955595, ACU_loss:4.66268215)\n",
            "epoch (18 / 30) (Loss:0.11898251, ACU_loss:4.64031806)\n",
            "epoch (19 / 30) (Loss:0.11815215, ACU_loss:4.60793401)\n",
            "epoch (20 / 30) (Loss:0.11719952, ACU_loss:4.57078137)\n",
            "epoch (21 / 30) (Loss:0.11333589, ACU_loss:4.42009982)\n",
            "epoch (22 / 30) (Loss:0.10792494, ACU_loss:4.20907265)\n",
            "epoch (23 / 30) (Loss:0.10558344, ACU_loss:4.11775397)\n",
            "epoch (24 / 30) (Loss:0.10352505, ACU_loss:4.03747677)\n",
            "epoch (25 / 30) (Loss:0.10750908, ACU_loss:4.19285401)\n",
            "epoch (26 / 30) (Loss:0.10862706, ACU_loss:4.23645533)\n",
            "epoch (27 / 30) (Loss:0.10658492, ACU_loss:4.15681206)\n",
            "epoch (28 / 30) (Loss:0.10667796, ACU_loss:4.16044056)\n",
            "epoch (29 / 30) (Loss:0.10309071, ACU_loss:4.02053779)\n",
            "=========================** Result **============================\n",
            "\n",
            "F1 score: 0.883347187586589\n",
            "precision: 0.7938247011952191\n",
            "recall: 0.99625\n",
            "\n"
          ]
        }
      ]
    },
    {
      "cell_type": "code",
      "source": [
        "#### try to update git"
      ],
      "metadata": {
        "id": "OSUdwCAj8zMy"
      },
      "execution_count": null,
      "outputs": []
    },
    {
      "cell_type": "code",
      "source": [
        "#### Push to nam branch"
      ],
      "metadata": {
        "id": "b_BPBKCpIop2"
      },
      "execution_count": null,
      "outputs": []
    },
    {
      "cell_type": "code",
      "source": [
        "#### blablalbal"
      ],
      "metadata": {
        "id": "oP2mgpEuJ2KX"
      },
      "execution_count": 1,
      "outputs": []
    },
    {
      "cell_type": "code",
      "source": [],
      "metadata": {
        "id": "nAE-IpqEKhjv"
      },
      "execution_count": null,
      "outputs": []
    }
  ]
}